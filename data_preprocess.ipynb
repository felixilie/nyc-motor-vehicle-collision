{
 "cells": [
  {
   "cell_type": "code",
   "execution_count": 1,
   "metadata": {},
   "outputs": [],
   "source": [
    "import pandas as pd\n",
    "import numpy as np\n",
    "import matplotlib.pyplot as plt\n",
    "import geopandas as gdp\n",
    "from collections import Counter\n",
    "from sklearn import preprocessing"
   ]
  },
  {
   "cell_type": "markdown",
   "metadata": {},
   "source": [
    "### First, some pre-process of the data"
   ]
  },
  {
   "cell_type": "markdown",
   "metadata": {},
   "source": [
    "Things to do:\n",
    "- Check if 'ON STREET NAME' contains some prudent data like st, bridge, tunnel, express way etc. generate features.\n",
    "- Check for most mentioned st. names\n",
    "- Check for holidays and mark those day\n",
    "- Divide the city into a grid\n",
    "- Count # of CONTRIBUTING FACTORs and # of VEHICLE TYPE CODE. generate features"
   ]
  },
  {
   "cell_type": "code",
   "execution_count": 2,
   "metadata": {},
   "outputs": [
    {
     "name": "stderr",
     "output_type": "stream",
     "text": [
      "C:\\Users\\Lenovo\\Anaconda3\\envs\\cs231n\\lib\\site-packages\\IPython\\core\\interactiveshell.py:3063: DtypeWarning: Columns (3) have mixed types.Specify dtype option on import or set low_memory=False.\n",
      "  interactivity=interactivity, compiler=compiler, result=result)\n"
     ]
    }
   ],
   "source": [
    "df = pd.read_csv(r'../../Machine Learning/Data Incubator/Motor_Vehicle_Collisions_-_Crashes.csv')"
   ]
  },
  {
   "cell_type": "code",
   "execution_count": 3,
   "metadata": {},
   "outputs": [],
   "source": [
    "# Checking for missing values first"
   ]
  },
  {
   "cell_type": "code",
   "execution_count": 4,
   "metadata": {},
   "outputs": [],
   "source": [
    "# df.isna().sum()"
   ]
  },
  {
   "cell_type": "code",
   "execution_count": 5,
   "metadata": {},
   "outputs": [],
   "source": [
    "# Look only at pre-covid records for now\n",
    "df = df[df['CRASH DATE'] < '2019-12-31'].reset_index(drop=True)"
   ]
  },
  {
   "cell_type": "code",
   "execution_count": 6,
   "metadata": {},
   "outputs": [],
   "source": [
    "# Drop rows with NaN for # of injuries or death for simplicity (can be dealt with later)\n",
    "df = df.dropna(subset=['NUMBER OF PERSONS INJURED','NUMBER OF PERSONS KILLED']).reset_index(drop=True)"
   ]
  },
  {
   "cell_type": "code",
   "execution_count": 7,
   "metadata": {},
   "outputs": [
    {
     "data": {
      "text/plain": [
       "14"
      ]
     },
     "execution_count": 7,
     "metadata": {},
     "output_type": "execute_result"
    }
   ],
   "source": [
    "# Sanity check if numbers sum up (should sum up!)\n",
    "(df['NUMBER OF PERSONS KILLED'] != df['NUMBER OF PEDESTRIANS KILLED'] + \\\n",
    " df['NUMBER OF CYCLIST KILLED'] + df['NUMBER OF MOTORIST KILLED']).sum()"
   ]
  },
  {
   "cell_type": "code",
   "execution_count": 8,
   "metadata": {},
   "outputs": [
    {
     "data": {
      "text/plain": [
       "682"
      ]
     },
     "execution_count": 8,
     "metadata": {},
     "output_type": "execute_result"
    }
   ],
   "source": [
    "# Sanity check if numbers sum up (should sum up!)\n",
    "(df['NUMBER OF PERSONS INJURED'] != df['NUMBER OF PEDESTRIANS INJURED'] + \\\n",
    " df['NUMBER OF CYCLIST INJURED'] + df['NUMBER OF MOTORIST INJURED']).sum()"
   ]
  },
  {
   "cell_type": "code",
   "execution_count": 9,
   "metadata": {},
   "outputs": [],
   "source": [
    "# Dropping all of those outliers cases for now, deal with it later"
   ]
  },
  {
   "cell_type": "code",
   "execution_count": 10,
   "metadata": {},
   "outputs": [],
   "source": [
    "df = df[(df['NUMBER OF PERSONS KILLED'] == df['NUMBER OF PEDESTRIANS KILLED'] + \\\n",
    " df['NUMBER OF CYCLIST KILLED'] + df['NUMBER OF MOTORIST KILLED'])].reset_index(drop=True)"
   ]
  },
  {
   "cell_type": "code",
   "execution_count": 11,
   "metadata": {},
   "outputs": [],
   "source": [
    "df = df[(df['NUMBER OF PERSONS INJURED'] == df['NUMBER OF PEDESTRIANS INJURED'] + \\\n",
    " df['NUMBER OF CYCLIST INJURED'] + df['NUMBER OF MOTORIST INJURED'])].reset_index(drop=True)"
   ]
  },
  {
   "cell_type": "code",
   "execution_count": 12,
   "metadata": {},
   "outputs": [],
   "source": [
    "df[['NUMBER OF PERSONS INJURED','NUMBER OF PERSONS KILLED']] = df[['NUMBER OF PERSONS INJURED','NUMBER OF PERSONS KILLED']].astype('int64')"
   ]
  },
  {
   "cell_type": "code",
   "execution_count": 13,
   "metadata": {},
   "outputs": [],
   "source": [
    "# Replacing NaN values with empty string "
   ]
  },
  {
   "cell_type": "code",
   "execution_count": 14,
   "metadata": {},
   "outputs": [],
   "source": [
    "df['ON STREET NAME'] = df['ON STREET NAME'].fillna('')\n",
    "df['CROSS STREET NAME'] = df['CROSS STREET NAME'].fillna('')\n",
    "df['OFF STREET NAME'] = df['OFF STREET NAME'].fillna('')"
   ]
  },
  {
   "cell_type": "code",
   "execution_count": 15,
   "metadata": {},
   "outputs": [],
   "source": [
    "df = df.drop(columns=['ON STREET NAME','CROSS STREET NAME','OFF STREET NAME'])"
   ]
  },
  {
   "cell_type": "code",
   "execution_count": 16,
   "metadata": {},
   "outputs": [],
   "source": [
    "# Looking for most common names, bulding features later for the relevant ones\n",
    "# Will use this later\n",
    "# Counter(\" \".join(df['OFF STREET NAME']).split()).most_common(100)"
   ]
  },
  {
   "cell_type": "markdown",
   "metadata": {},
   "source": [
    "### Time and Date Feature"
   ]
  },
  {
   "cell_type": "code",
   "execution_count": 17,
   "metadata": {},
   "outputs": [],
   "source": [
    "df['CRASH TIME'] = pd.to_datetime(df['CRASH TIME']).dt.hour\n",
    "y = pd.get_dummies(df['CRASH TIME'], prefix='CRASH_HR')\n",
    "df = pd.concat([df, y], axis=1)\n",
    "df = df.drop(columns=['CRASH TIME'])\n",
    "df['CRASH DATE'] = pd.to_datetime(df['CRASH DATE'])\n",
    "df['day'] = df['CRASH DATE'].dt.day_name()\n",
    "y = pd.get_dummies(df['day'], prefix='CRASH_DAY')\n",
    "df = pd.concat([df, y], axis=1)\n",
    "df = df.drop(columns=['day'])\n",
    "df['month'] = df['CRASH DATE'].dt.month_name()\n",
    "y = pd.get_dummies(df['month'], prefix='CRASH_MONTH')\n",
    "df = pd.concat([df, y], axis=1)\n",
    "df = df.drop(columns=['month'])\n",
    "df = df.drop(columns=['CRASH DATE'])"
   ]
  },
  {
   "cell_type": "markdown",
   "metadata": {},
   "source": [
    "### Location Features"
   ]
  },
  {
   "cell_type": "code",
   "execution_count": 18,
   "metadata": {},
   "outputs": [],
   "source": [
    "# Dropping all missing locations for now, deal with it later\n",
    "df = df.dropna(subset=['LATITUDE','LONGITUDE']).reset_index(drop=True)"
   ]
  },
  {
   "cell_type": "code",
   "execution_count": 19,
   "metadata": {},
   "outputs": [
    {
     "data": {
      "text/plain": [
       "1176"
      ]
     },
     "execution_count": 19,
     "metadata": {},
     "output_type": "execute_result"
    }
   ],
   "source": [
    "df['LONGITUDE'][df['LONGITUDE']==0].count()"
   ]
  },
  {
   "cell_type": "code",
   "execution_count": 20,
   "metadata": {},
   "outputs": [
    {
     "data": {
      "text/plain": [
       "1181556    40.498949\n",
       "1426660    40.498949\n",
       "856370     40.499135\n",
       "512382     40.499310\n",
       "1028369    40.499479\n",
       "             ...    \n",
       "369202     40.912884\n",
       "650038     40.912884\n",
       "337841     40.912884\n",
       "128537     40.912884\n",
       "612471     40.912884\n",
       "Name: LATITUDE, Length: 1492054, dtype: float64"
      ]
     },
     "execution_count": 20,
     "metadata": {},
     "output_type": "execute_result"
    }
   ],
   "source": [
    "df['LATITUDE'][(df['LATITUDE']<=40.92)&(df['LATITUDE']>=40.49)].sort_values()"
   ]
  },
  {
   "cell_type": "code",
   "execution_count": 21,
   "metadata": {},
   "outputs": [
    {
     "data": {
      "text/plain": [
       "1166775   -74.254532\n",
       "398853    -74.253930\n",
       "758632    -74.253174\n",
       "869604    -74.253031\n",
       "31306     -74.253006\n",
       "             ...    \n",
       "280582    -73.700584\n",
       "708186    -73.700584\n",
       "508338    -73.700550\n",
       "361338    -73.700550\n",
       "821330    -73.663010\n",
       "Name: LONGITUDE, Length: 1491933, dtype: float64"
      ]
     },
     "execution_count": 21,
     "metadata": {},
     "output_type": "execute_result"
    }
   ],
   "source": [
    "df['LONGITUDE'][(df['LONGITUDE']<=-73.5)&(df['LONGITUDE']>=-74.5)].sort_values()"
   ]
  },
  {
   "cell_type": "code",
   "execution_count": 22,
   "metadata": {},
   "outputs": [],
   "source": [
    "# Dropping locations values that are not within NYC for now, deal with it later"
   ]
  },
  {
   "cell_type": "code",
   "execution_count": 23,
   "metadata": {},
   "outputs": [],
   "source": [
    "df = df[(df['LATITUDE']<=40.92)&(df['LATITUDE']>=40.49)]"
   ]
  },
  {
   "cell_type": "code",
   "execution_count": 24,
   "metadata": {},
   "outputs": [],
   "source": [
    "df = df[(df['LONGITUDE']<=-73.5)&(df['LONGITUDE']>=-74.5)]"
   ]
  },
  {
   "cell_type": "code",
   "execution_count": 25,
   "metadata": {},
   "outputs": [
    {
     "data": {
      "text/plain": [
       "-73.66301"
      ]
     },
     "execution_count": 25,
     "metadata": {},
     "output_type": "execute_result"
    }
   ],
   "source": [
    "df['LONGITUDE'].max()"
   ]
  },
  {
   "cell_type": "code",
   "execution_count": 26,
   "metadata": {},
   "outputs": [],
   "source": [
    "df = df.reset_index(drop=True)"
   ]
  },
  {
   "cell_type": "code",
   "execution_count": 27,
   "metadata": {},
   "outputs": [
    {
     "data": {
      "text/plain": [
       "0.4139352000000116"
      ]
     },
     "execution_count": 27,
     "metadata": {},
     "output_type": "execute_result"
    }
   ],
   "source": [
    "df['LATITUDE'].max()-df['LATITUDE'].min()"
   ]
  },
  {
   "cell_type": "code",
   "execution_count": 28,
   "metadata": {},
   "outputs": [
    {
     "data": {
      "text/plain": [
       "0.5915215999999788"
      ]
     },
     "execution_count": 28,
     "metadata": {},
     "output_type": "execute_result"
    }
   ],
   "source": [
    "df['LONGITUDE'].max()-df['LONGITUDE'].min()"
   ]
  },
  {
   "cell_type": "code",
   "execution_count": 29,
   "metadata": {},
   "outputs": [],
   "source": [
    "Number_of_Cells = 100\n",
    "step = (df['LATITUDE'].max()-df['LATITUDE'].min())/Number_of_Cells\n",
    "to_bin = lambda x: np.floor(x / step) * step\n",
    "df[\"lat_bin\"] = df['LATITUDE'].map(to_bin)\n",
    "df[\"lon_bin\"] = df['LONGITUDE'].map(to_bin)"
   ]
  },
  {
   "cell_type": "code",
   "execution_count": 30,
   "metadata": {},
   "outputs": [
    {
     "data": {
      "text/plain": [
       "101"
      ]
     },
     "execution_count": 30,
     "metadata": {},
     "output_type": "execute_result"
    }
   ],
   "source": [
    "df[\"lat_bin\"].unique().size"
   ]
  },
  {
   "cell_type": "code",
   "execution_count": 31,
   "metadata": {},
   "outputs": [
    {
     "data": {
      "text/plain": [
       "135"
      ]
     },
     "execution_count": 31,
     "metadata": {},
     "output_type": "execute_result"
    }
   ],
   "source": [
    "df[\"lon_bin\"].unique().size"
   ]
  },
  {
   "cell_type": "code",
   "execution_count": 32,
   "metadata": {},
   "outputs": [],
   "source": [
    "nyc = gdp.read_file(gdp.datasets.get_path('nybb'))"
   ]
  },
  {
   "cell_type": "code",
   "execution_count": 33,
   "metadata": {},
   "outputs": [],
   "source": [
    "nyc = nyc.to_crs(\"EPSG:4326\")"
   ]
  },
  {
   "cell_type": "code",
   "execution_count": 34,
   "metadata": {},
   "outputs": [
    {
     "data": {
      "image/png": "[encoded data removed]",
      "text/plain": [
       "<Figure size 720x720 with 1 Axes>"
      ]
     },
     "metadata": {
      "needs_background": "light"
     },
     "output_type": "display_data"
    }
   ],
   "source": [
    "# Plot the generated grid\n",
    "ax =nyc.plot(figsize=(10, 10), alpha=0.5, edgecolor='k')\n",
    "for i in df[\"lat_bin\"].unique():\n",
    "    plt.axhline(i, color='r', alpha=0.2)\n",
    "for i in df[\"lon_bin\"].unique():\n",
    "    plt.axvline(i, color='r' , alpha=0.2)  \n",
    "# plt.xlim(-74, -73.89)\n",
    "# plt.ylim(40.49, 40.68)\n",
    "plt.show() "
   ]
  },
  {
   "cell_type": "code",
   "execution_count": 35,
   "metadata": {},
   "outputs": [],
   "source": [
    "y = pd.get_dummies(df['lat_bin'], prefix='lat_bin')"
   ]
  },
  {
   "cell_type": "code",
   "execution_count": 36,
   "metadata": {},
   "outputs": [],
   "source": [
    "df = pd.concat([df, y], axis=1)"
   ]
  },
  {
   "cell_type": "code",
   "execution_count": 37,
   "metadata": {},
   "outputs": [],
   "source": [
    "y = pd.get_dummies(df['lon_bin'], prefix='lon_bin')"
   ]
  },
  {
   "cell_type": "code",
   "execution_count": 38,
   "metadata": {},
   "outputs": [],
   "source": [
    "df = pd.concat([df, y], axis=1)"
   ]
  },
  {
   "cell_type": "code",
   "execution_count": 39,
   "metadata": {},
   "outputs": [],
   "source": [
    "df = df.drop(columns=['BOROUGH','ZIP CODE','LATITUDE','LONGITUDE','LOCATION','lat_bin','lon_bin'])"
   ]
  },
  {
   "cell_type": "markdown",
   "metadata": {},
   "source": [
    "### Features for contributing factors"
   ]
  },
  {
   "cell_type": "code",
   "execution_count": 40,
   "metadata": {},
   "outputs": [],
   "source": [
    "y1 = pd.get_dummies(df['CONTRIBUTING FACTOR VEHICLE 1'], prefix='FACTOR')"
   ]
  },
  {
   "cell_type": "code",
   "execution_count": 41,
   "metadata": {},
   "outputs": [],
   "source": [
    "# Dropping double columns\n",
    "\n",
    "y1['FACTOR_Cell Phone (hand-held)'] = y1['FACTOR_Cell Phone (hand-held)']+y1['FACTOR_Cell Phone (hand-Held)']\n",
    "y1['FACTOR_Drugs (illegal)'] = y1['FACTOR_Drugs (illegal)'] + y1['FACTOR_Drugs (Illegal)']\n",
    "y1 = y1.drop(columns=['FACTOR_Drugs (Illegal)', 'FACTOR_Cell Phone (hand-Held)'])"
   ]
  },
  {
   "cell_type": "code",
   "execution_count": 42,
   "metadata": {},
   "outputs": [],
   "source": [
    "y1.columns = map(str.lower, y1.columns)"
   ]
  },
  {
   "cell_type": "code",
   "execution_count": 43,
   "metadata": {},
   "outputs": [],
   "source": [
    "y2 = pd.get_dummies(df['CONTRIBUTING FACTOR VEHICLE 2'], prefix='FACTOR')"
   ]
  },
  {
   "cell_type": "code",
   "execution_count": 44,
   "metadata": {},
   "outputs": [],
   "source": [
    "# Dropping double columns\n",
    "\n",
    "y2['FACTOR_Cell Phone (hand-held)'] = y2['FACTOR_Cell Phone (hand-held)'] + y2['FACTOR_Cell Phone (hand-Held)']\n",
    "y2['FACTOR_Drugs (illegal)'] = y2['FACTOR_Drugs (illegal)'] + y2['FACTOR_Drugs (Illegal)']\n",
    "y2 = y2.drop(columns=['FACTOR_Drugs (Illegal)', 'FACTOR_Cell Phone (hand-Held)'])"
   ]
  },
  {
   "cell_type": "code",
   "execution_count": 45,
   "metadata": {},
   "outputs": [],
   "source": [
    "y2.columns = map(str.lower, y2.columns)"
   ]
  },
  {
   "cell_type": "code",
   "execution_count": 46,
   "metadata": {},
   "outputs": [],
   "source": [
    "y3 = pd.get_dummies(df['CONTRIBUTING FACTOR VEHICLE 3'], prefix='FACTOR')"
   ]
  },
  {
   "cell_type": "code",
   "execution_count": 47,
   "metadata": {},
   "outputs": [],
   "source": [
    "y3['FACTOR_Drugs (illegal)'] = y3['FACTOR_Drugs (illegal)'] + y3['FACTOR_Drugs (Illegal)']\n",
    "y3 = y3.drop(columns=['FACTOR_Drugs (Illegal)'])"
   ]
  },
  {
   "cell_type": "code",
   "execution_count": 48,
   "metadata": {},
   "outputs": [],
   "source": [
    "y3.columns = map(str.lower, y3.columns)"
   ]
  },
  {
   "cell_type": "code",
   "execution_count": 49,
   "metadata": {},
   "outputs": [],
   "source": [
    "y4 = pd.get_dummies(df['CONTRIBUTING FACTOR VEHICLE 4'], prefix='FACTOR')"
   ]
  },
  {
   "cell_type": "code",
   "execution_count": 50,
   "metadata": {},
   "outputs": [],
   "source": [
    "y4['FACTOR_Drugs (illegal)'] = y4['FACTOR_Drugs (illegal)'] + y4['FACTOR_Drugs (Illegal)']\n",
    "y4 = y4.drop(columns=['FACTOR_Drugs (Illegal)'])"
   ]
  },
  {
   "cell_type": "code",
   "execution_count": 51,
   "metadata": {},
   "outputs": [],
   "source": [
    "y4.columns = map(str.lower, y4.columns)"
   ]
  },
  {
   "cell_type": "code",
   "execution_count": 52,
   "metadata": {},
   "outputs": [],
   "source": [
    "y5 = pd.get_dummies(df['CONTRIBUTING FACTOR VEHICLE 5'], prefix='FACTOR')"
   ]
  },
  {
   "cell_type": "code",
   "execution_count": 53,
   "metadata": {},
   "outputs": [],
   "source": [
    "y5.columns = map(str.lower, y5.columns)"
   ]
  },
  {
   "cell_type": "code",
   "execution_count": 54,
   "metadata": {},
   "outputs": [],
   "source": [
    "y = y1.add(y2,fill_value=0).add(y3,fill_value=0).add(y4, fill_value=0).add(y5, fill_value=0)"
   ]
  },
  {
   "cell_type": "code",
   "execution_count": 55,
   "metadata": {},
   "outputs": [
    {
     "data": {
      "text/plain": [
       "59"
      ]
     },
     "execution_count": 55,
     "metadata": {},
     "output_type": "execute_result"
    }
   ],
   "source": [
    "y.columns.values.size"
   ]
  },
  {
   "cell_type": "code",
   "execution_count": 56,
   "metadata": {},
   "outputs": [],
   "source": [
    "y = y.astype('uint8')"
   ]
  },
  {
   "cell_type": "code",
   "execution_count": 57,
   "metadata": {},
   "outputs": [],
   "source": [
    "y['number_of_factors'] = y.sum(axis=1)"
   ]
  },
  {
   "cell_type": "code",
   "execution_count": 58,
   "metadata": {},
   "outputs": [],
   "source": [
    "# # Normlize\n",
    "# y = y/y.max()"
   ]
  },
  {
   "cell_type": "code",
   "execution_count": 59,
   "metadata": {},
   "outputs": [],
   "source": [
    "df = pd.concat([df, y], axis=1)"
   ]
  },
  {
   "cell_type": "code",
   "execution_count": 60,
   "metadata": {},
   "outputs": [],
   "source": [
    "df = df.drop(columns=['CONTRIBUTING FACTOR VEHICLE 1','CONTRIBUTING FACTOR VEHICLE 2','CONTRIBUTING FACTOR VEHICLE 3' \\\n",
    "                     , 'CONTRIBUTING FACTOR VEHICLE 4', 'CONTRIBUTING FACTOR VEHICLE 5'])"
   ]
  },
  {
   "cell_type": "markdown",
   "metadata": {},
   "source": [
    "### Features for VEHICLE TYPE"
   ]
  },
  {
   "cell_type": "code",
   "execution_count": 61,
   "metadata": {},
   "outputs": [
    {
     "data": {
      "text/plain": [
       "Index(['VEHICLE TYPE CODE 1', 'VEHICLE TYPE CODE 2', 'VEHICLE TYPE CODE 3',\n",
       "       'VEHICLE TYPE CODE 4', 'VEHICLE TYPE CODE 5'],\n",
       "      dtype='object')"
      ]
     },
     "execution_count": 61,
     "metadata": {},
     "output_type": "execute_result"
    }
   ],
   "source": [
    "df.loc[:,'VEHICLE TYPE CODE 1':'VEHICLE TYPE CODE 5'].columns"
   ]
  },
  {
   "cell_type": "code",
   "execution_count": 62,
   "metadata": {},
   "outputs": [],
   "source": [
    "df['number_of_vehicles'] = df['VEHICLE TYPE CODE 1'].notna().astype('uint8') + \\\n",
    "df['VEHICLE TYPE CODE 2'].notna().astype('uint8') + \\\n",
    "df['VEHICLE TYPE CODE 3'].notna().astype('uint8') + \\\n",
    "df['VEHICLE TYPE CODE 4'].notna().astype('uint8') + \\\n",
    "df['VEHICLE TYPE CODE 5'].notna().astype('uint8')"
   ]
  },
  {
   "cell_type": "code",
   "execution_count": 63,
   "metadata": {},
   "outputs": [],
   "source": [
    "for column in df.loc[:,'VEHICLE TYPE CODE 1':'VEHICLE TYPE CODE 5'].columns:\n",
    "    df[column] = df[column].fillna('')"
   ]
  },
  {
   "cell_type": "code",
   "execution_count": 64,
   "metadata": {},
   "outputs": [],
   "source": [
    "for column in df.loc[:,'VEHICLE TYPE CODE 1':'VEHICLE TYPE CODE 5'].columns:\n",
    "    df[column] = df[column].str.lower()"
   ]
  },
  {
   "cell_type": "code",
   "execution_count": 65,
   "metadata": {},
   "outputs": [
    {
     "data": {
      "text/plain": [
       "[('vehicle', 649955),\n",
       " ('utility', 444569),\n",
       " ('station', 444566),\n",
       " ('sedan', 401123),\n",
       " ('passenger', 347153),\n",
       " ('wagon/sport', 293650),\n",
       " ('/', 151731),\n",
       " ('wagon', 150955),\n",
       " ('sport', 150916),\n",
       " ('taxi', 67818),\n",
       " ('truck', 60440),\n",
       " ('pick-up', 33880),\n",
       " ('dr', 30188),\n",
       " ('van', 28817),\n",
       " ('4', 28338),\n",
       " ('bus', 26264),\n",
       " ('com', 22946),\n",
       " ('tires)', 22884),\n",
       " ('other', 19561),\n",
       " ('unknown', 17197),\n",
       " ('box', 16661),\n",
       " ('or', 12945),\n",
       " ('small', 11461),\n",
       " ('veh(4', 11460),\n",
       " ('large', 11424),\n",
       " ('veh(6', 11424),\n",
       " ('more', 11424),\n",
       " ('livery', 9105),\n",
       " ('motorcycle', 8068),\n",
       " ('bike', 7929)]"
      ]
     },
     "execution_count": 65,
     "metadata": {},
     "output_type": "execute_result"
    }
   ],
   "source": [
    "Counter(\" \".join(df['VEHICLE TYPE CODE 1']).split()).most_common(30)"
   ]
  },
  {
   "cell_type": "code",
   "execution_count": 66,
   "metadata": {},
   "outputs": [],
   "source": [
    "y = pd.DataFrame()"
   ]
  },
  {
   "cell_type": "code",
   "execution_count": 67,
   "metadata": {},
   "outputs": [],
   "source": [
    "y['vehicle_sedan'] = df['VEHICLE TYPE CODE 1'].str.contains('sedan').astype('uint8')\n",
    "y['vehicle_taxi'] = df['VEHICLE TYPE CODE 1'].str.contains('taxi').astype('uint8')\n",
    "y['vehicle_truck'] = df['VEHICLE TYPE CODE 1'].str.contains('truck').astype('uint8')\n",
    "y['vehicle_pick-up'] = df['VEHICLE TYPE CODE 1'].str.contains('pick-up').astype('uint8')\n",
    "y['vehicle_bus'] = df['VEHICLE TYPE CODE 1'].str.contains('bus').astype('uint8')\n",
    "y['vehicle_motorcycle'] = df['VEHICLE TYPE CODE 1'].str.contains('motorcycle').astype('uint8')\n",
    "y['vehicle_bike'] = df['VEHICLE TYPE CODE 1'].str.contains('bike').astype('uint8')\n",
    "y['vehicle_tractor'] = df['VEHICLE TYPE CODE 1'].str.contains('tractor').astype('uint8')\n",
    "y['vehicle_ambulance'] = df['VEHICLE TYPE CODE 1'].str.contains('ambulance').astype('uint8')\n",
    "y['vehicle_fire'] = df['VEHICLE TYPE CODE 1'].str.contains('fire').astype('uint8')"
   ]
  },
  {
   "cell_type": "code",
   "execution_count": 68,
   "metadata": {},
   "outputs": [],
   "source": [
    "for column in df.loc[:,'VEHICLE TYPE CODE 2':'VEHICLE TYPE CODE 5'].columns:\n",
    "    y['vehicle_sedan'] += df[column].str.contains('sedan').astype('uint8')\n",
    "    y['vehicle_taxi'] += df[column].str.contains('taxi').astype('uint8')\n",
    "    y['vehicle_truck'] += df[column].str.contains('truck').astype('uint8')\n",
    "    y['vehicle_pick-up'] += df[column].str.contains('pick-up').astype('uint8')\n",
    "    y['vehicle_bus'] += df[column].str.contains('bus').astype('uint8')\n",
    "    y['vehicle_motorcycle'] += df[column].str.contains('motorcycle').astype('uint8')\n",
    "    y['vehicle_bike'] += df[column].str.contains('bike').astype('uint8')\n",
    "    y['vehicle_tractor'] += df[column].str.contains('tractor').astype('uint8')\n",
    "    y['vehicle_ambulance'] += df[column].str.contains('ambulance').astype('uint8')\n",
    "    y['vehicle_fire'] += df[column].str.contains('fire').astype('uint8')"
   ]
  },
  {
   "cell_type": "code",
   "execution_count": 70,
   "metadata": {},
   "outputs": [],
   "source": [
    "# Sedan, [ambulance, abula, amabu, amb, ambu, ambul, ambulence, truck, [bicyc, bicycle], bus, bike, cab"
   ]
  },
  {
   "cell_type": "code",
   "execution_count": 72,
   "metadata": {},
   "outputs": [
    {
     "name": "stdout",
     "output_type": "stream",
     "text": [
      "Variable          Type            Data/Info\n",
      "-------------------------------------------\n",
      "Counter           type            <class 'collections.Counter'>\n",
      "Number_of_Cells   int             100\n",
      "ax                AxesSubplot     AxesSubplot(0.125,0.140306;0.775x0.724388)\n",
      "column            str             VEHICLE TYPE CODE 5\n",
      "df                DataFrame                NUMBER OF PERSON<...>91922 rows x 354 columns]\n",
      "gdp               module          <module 'geopandas' from <...>\\geopandas\\\\__init__.py'>\n",
      "i                 float64         -74.04886792800208\n",
      "np                module          <module 'numpy' from 'C:\\<...>ges\\\\numpy\\\\__init__.py'>\n",
      "nyc               GeoDataFrame       BoroCode       BoroNam<...>40.79581, -73.89694 ...  \n",
      "pd                module          <module 'pandas' from 'C:<...>es\\\\pandas\\\\__init__.py'>\n",
      "plt               module          <module 'matplotlib.pyplo<...>\\\\matplotlib\\\\pyplot.py'>\n",
      "preprocessing     module          <module 'sklearn.preproce<...>processing\\\\__init__.py'>\n",
      "step              float64         0.004139352000000116\n",
      "to_bin            function        <function <lambda> at 0x000001CF833F2F78>\n",
      "y                 DataFrame                vehicle_sedan  v<...>491922 rows x 10 columns]\n",
      "y1                DataFrame                factor_1  factor<...>491922 rows x 59 columns]\n",
      "y2                DataFrame                factor_1  factor<...>491922 rows x 59 columns]\n",
      "y3                DataFrame                factor_1  factor<...>491922 rows x 48 columns]\n",
      "y4                DataFrame                factor_accelerat<...>491922 rows x 38 columns]\n",
      "y5                DataFrame                factor_aggressiv<...>491922 rows x 29 columns]\n"
     ]
    }
   ],
   "source": [
    "%whos"
   ]
  },
  {
   "cell_type": "code",
   "execution_count": 73,
   "metadata": {},
   "outputs": [],
   "source": [
    "del y1, y2, y3, y4, y5"
   ]
  },
  {
   "cell_type": "code",
   "execution_count": 74,
   "metadata": {},
   "outputs": [
    {
     "data": {
      "text/plain": [
       "Index                                  128\n",
       "NUMBER OF PERSONS INJURED         11935376\n",
       "NUMBER OF PERSONS KILLED          11935376\n",
       "NUMBER OF PEDESTRIANS INJURED     11935376\n",
       "NUMBER OF PEDESTRIANS KILLED      11935376\n",
       "                                    ...   \n",
       "factor_vehicle vandalism           1491922\n",
       "factor_view obstructed/limited     1491922\n",
       "factor_windshield inadequate       1491922\n",
       "number_of_factors                 11935376\n",
       "number_of_vehicles                 1491922\n",
       "Length: 355, dtype: int64"
      ]
     },
     "execution_count": 74,
     "metadata": {},
     "output_type": "execute_result"
    }
   ],
   "source": [
    "df.memory_usage(deep=True) "
   ]
  },
  {
   "cell_type": "code",
   "execution_count": 75,
   "metadata": {},
   "outputs": [],
   "source": [
    "df = pd.concat([df, y], axis=1)"
   ]
  },
  {
   "cell_type": "code",
   "execution_count": 77,
   "metadata": {},
   "outputs": [],
   "source": [
    "df = df.drop(columns=['COLLISION_ID','VEHICLE TYPE CODE 1','VEHICLE TYPE CODE 2' \\\n",
    "                     , 'VEHICLE TYPE CODE 3', 'VEHICLE TYPE CODE 4', 'VEHICLE TYPE CODE 5'])"
   ]
  },
  {
   "cell_type": "code",
   "execution_count": 83,
   "metadata": {},
   "outputs": [
    {
     "data": {
      "text/plain": [
       "NUMBER OF PERSONS INJURED        int64\n",
       "NUMBER OF PERSONS KILLED         int64\n",
       "NUMBER OF PEDESTRIANS INJURED    int64\n",
       "NUMBER OF PEDESTRIANS KILLED     int64\n",
       "NUMBER OF CYCLIST INJURED        int64\n",
       "NUMBER OF CYCLIST KILLED         int64\n",
       "NUMBER OF MOTORIST INJURED       int64\n",
       "NUMBER OF MOTORIST KILLED        int64\n",
       "number_of_factors                int64\n",
       "dtype: object"
      ]
     },
     "execution_count": 83,
     "metadata": {},
     "output_type": "execute_result"
    }
   ],
   "source": [
    "df.dtypes[df.dtypes == 'int64']"
   ]
  },
  {
   "cell_type": "code",
   "execution_count": 85,
   "metadata": {},
   "outputs": [
    {
     "name": "stdout",
     "output_type": "stream",
     "text": [
      "<class 'pandas.core.frame.DataFrame'>\n",
      "RangeIndex: 1491922 entries, 0 to 1491921\n",
      "Columns: 358 entries, NUMBER OF PERSONS INJURED to vehicle_fire\n",
      "dtypes: int64(9), uint8(349)\n",
      "memory usage: 599.0 MB\n"
     ]
    }
   ],
   "source": [
    "df.info()"
   ]
  },
  {
   "cell_type": "code",
   "execution_count": 87,
   "metadata": {},
   "outputs": [],
   "source": [
    "df.to_pickle('../../Machine Learning/Data Incubator/nyc_collisions_cat.pkl')"
   ]
  },
  {
   "cell_type": "code",
   "execution_count": null,
   "metadata": {},
   "outputs": [],
   "source": []
  }
 ],
 "metadata": {
  "kernelspec": {
   "display_name": "Python 3",
   "language": "python",
   "name": "python3"
  },
  "language_info": {
   "codemirror_mode": {
    "name": "ipython",
    "version": 3
   },
   "file_extension": ".py",
   "mimetype": "text/x-python",
   "name": "python",
   "nbconvert_exporter": "python",
   "pygments_lexer": "ipython3",
   "version": "3.7.7"
  }
 },
 "nbformat": 4,
 "nbformat_minor": 4
}
